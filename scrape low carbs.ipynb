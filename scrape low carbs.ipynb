{
  "nbformat": 4,
  "nbformat_minor": 0,
  "metadata": {
    "colab": {
      "provenance": []
    },
    "kernelspec": {
      "name": "python3",
      "display_name": "Python 3"
    },
    "language_info": {
      "name": "python"
    }
  },
  "cells": [
    {
      "cell_type": "code",
      "source": [
        "!pip install google-search-results\n",
        "from serpapi import GoogleSearch\n",
        "from bs4 import BeautifulSoup\n",
        "import requests"
      ],
      "metadata": {
        "id": "vobduJj3_AOy",
        "colab": {
          "base_uri": "https://localhost:8080/"
        },
        "outputId": "f06b6976-78a5-42aa-a022-3e2bafef9c9a"
      },
      "execution_count": null,
      "outputs": [
        {
          "output_type": "stream",
          "name": "stdout",
          "text": [
            "Collecting google-search-results\n",
            "  Downloading google_search_results-2.4.2.tar.gz (18 kB)\n",
            "  Preparing metadata (setup.py) ... \u001b[?25l\u001b[?25hdone\n",
            "Requirement already satisfied: requests in /usr/local/lib/python3.10/dist-packages (from google-search-results) (2.32.3)\n",
            "Requirement already satisfied: charset-normalizer<4,>=2 in /usr/local/lib/python3.10/dist-packages (from requests->google-search-results) (3.4.0)\n",
            "Requirement already satisfied: idna<4,>=2.5 in /usr/local/lib/python3.10/dist-packages (from requests->google-search-results) (3.10)\n",
            "Requirement already satisfied: urllib3<3,>=1.21.1 in /usr/local/lib/python3.10/dist-packages (from requests->google-search-results) (2.2.3)\n",
            "Requirement already satisfied: certifi>=2017.4.17 in /usr/local/lib/python3.10/dist-packages (from requests->google-search-results) (2024.8.30)\n",
            "Building wheels for collected packages: google-search-results\n",
            "  Building wheel for google-search-results (setup.py) ... \u001b[?25l\u001b[?25hdone\n",
            "  Created wheel for google-search-results: filename=google_search_results-2.4.2-py3-none-any.whl size=32009 sha256=4bb019e9e9ab47158340118fe3204e574de2cfb91669a10db659e0061b633cc0\n",
            "  Stored in directory: /root/.cache/pip/wheels/d3/b2/c3/03302d12bb44a2cdff3c9371f31b72c0c4e84b8d2285eeac53\n",
            "Successfully built google-search-results\n",
            "Installing collected packages: google-search-results\n",
            "Successfully installed google-search-results-2.4.2\n"
          ]
        }
      ]
    },
    {
      "cell_type": "code",
      "source": [
        "params = {\n",
        "  \"api_key\": \"2b77a38a2fcb307a2b3622bda24a1cc7900346e067d0dd45cef3600e807913dc\",\n",
        "  \"engine\": \"youtube\",\n",
        "  \"search_query\": \"low carb kitchen\"\n",
        "}\n",
        "\n",
        "search = GoogleSearch(params)\n",
        "results = search.get_dict()"
      ],
      "metadata": {
        "id": "HagAA9K_Hxin"
      },
      "execution_count": null,
      "outputs": []
    },
    {
      "cell_type": "code",
      "source": [
        "results =results[\"video_results\"]\n",
        "for i in range(len(results)):\n",
        "    video =results[i][\"title\"]\n",
        "    channel =results[i][\"channel\"]\n",
        "    print(f\"Video {i+1}: {video}\\nChannel: {channel}\\n\")\n"
      ],
      "metadata": {
        "id": "2eR9fuJzH5Tm",
        "colab": {
          "base_uri": "https://localhost:8080/"
        },
        "outputId": "a8ee5978-aed7-4cd0-b14e-c3f5a51ab5cb"
      },
      "execution_count": null,
      "outputs": [
        {
          "output_type": "stream",
          "name": "stdout",
          "text": [
            "Video 1: GHANA KETO & LOW CARB KITCHEN  |  EPISODE 1 : KETO MUST-HAVES (CUPBOARD)\n",
            "Channel: {'name': 'GHANA KETO AND LOWCARB IDEAS ', 'link': 'https://www.youtube.com/@ghanaketoandlowcarbideas', 'thumbnail': 'https://yt3.ggpht.com/ETD-3U1SSywfG_1U0PtmmTxssZ6hsWaBGZCnkdjoPtvY7segNwHikRjtbzoXkLjGhsbw7p1fwQ=s68-c-k-c0x00ffffff-no-rj'}\n",
            "\n",
            "Video 2: My KETO Kitchen Essentials! • 15 LOW CARB Products & Tools\n",
            "Channel: {'name': \"Highfalutin' Low Carb\", 'link': 'https://www.youtube.com/@HighfalutinLowCarb', 'verified': True, 'thumbnail': 'https://yt3.ggpht.com/ytc/AIdro_mYvHHuOi2Icl8sm318vK2lQQO2nwtAAPiPtnl6IE__1w=s68-c-k-c0x00ffffff-no-rj'}\n",
            "\n",
            "Video 3: New Standard Keto Flour | A ZERO Net Carb White Flour 1:1 Substitute! Gluten free*\n",
            "Channel: {'name': \"Victoria's Keto Kitchen\", 'link': 'https://www.youtube.com/@victoriasketokitchen', 'verified': True, 'thumbnail': 'https://yt3.ggpht.com/LTnFC6gz_SVJJrtbStLD-QZW2PRhGUVPaoTVGKBqOq2CGumyjJ5qFYlUMtkbxJcFq5aGxd54_1M=s68-c-k-c0x00ffffff-no-rj'}\n",
            "\n",
            "Video 4: Low Carb Kitchen Favorites\n",
            "Channel: {'name': 'Mikey Goode', 'link': 'https://www.youtube.com/@MikeyGoode', 'thumbnail': 'https://yt3.ggpht.com/ytc/AIdro_mZQLkBwvhIyUaRhyudRH47XtJa-xq7HHKhTNvsX0Wfm9UF=s68-c-k-c0x00ffffff-no-rj'}\n",
            "\n",
            "Video 5: What I Eat In A Day | I lost 135 Pounds with these meals!\n",
            "Channel: {'name': 'Low Carb Love', 'link': 'https://www.youtube.com/@LowCarbLove', 'verified': True, 'thumbnail': 'https://yt3.ggpht.com/YwDm9r7CLeQv9jhixxfLinWgOP61NVvY8txaClCpyLZiZsbvld_Nrm43pMavk3LTk-F3AfQMKkQ=s68-c-k-c0x00ffffff-no-rj'}\n",
            "\n",
            "Video 6: Garlic Bread - Low Carb, Keto Diet Fast Food!\n",
            "Channel: {'name': \"Nicko's Kitchen\", 'link': 'https://www.youtube.com/@robjnixon', 'verified': True, 'thumbnail': 'https://yt3.ggpht.com/xJ-T8HcppGjXSDgYk9M4MhOnFoomRabITdzVKvt4BdHy47NXApTV6koM040jD04BVuKB44t2pEo=s68-c-k-c0x00ffffff-no-rj'}\n",
            "\n",
            "Video 7: Low carb loaf bread version 5 #lowcarbrecipes #lowcarbfoodideas #lowcarbbread #lowcarbdiet\n",
            "Channel: {'name': 'Low Carb Kitchen Pharmacist', 'link': 'https://www.youtube.com/@motherslifelowcarbsadvocat7521', 'thumbnail': 'https://yt3.ggpht.com/_ZDkyJsEjlSs7UChAq5A-V2PyEwdObxMzw0npgpcX37X-r-dptsjXA6viG29mz9i2Re_s1YW4t0=s68-c-k-c0x00ffffff-no-rj'}\n",
            "\n",
            "Video 8: La Tiara Taco Shells Ground Beef Tacos Tuesday Low Carb Kitchen HQ\n",
            "Channel: {'name': 'COOKINGWITHDOUG', 'link': 'https://www.youtube.com/@COOKINGWITHDOUG', 'verified': True, 'thumbnail': 'https://yt3.ggpht.com/ytc/AIdro_k-d1Km7YcpujS_dlL_NZjpSIB-HbZ7Ij_4bXmvprlyFjY=s68-c-k-c0x00ffffff-no-rj'}\n",
            "\n",
            "Video 9: Quick And Delicious Keto Dinner Rolls (Nut Free And Gluten Free No Yeast)\n",
            "Channel: {'name': \"Janet's Delicious Low Carb Kitchen\", 'link': 'https://www.youtube.com/@JanetsDeliciousLowCarbKitchen', 'thumbnail': 'https://yt3.ggpht.com/ytc/AIdro_mXfmWdBfCKdVNnACqWutnvRcRjvey8fTcLxeDHA2PyDg=s68-c-k-c0x00ffffff-no-rj'}\n",
            "\n",
            "Video 10: A sneak Peek inside The Primal Low Carb Kitchen Cookbook\n",
            "Channel: {'name': 'Simply Delicious', 'link': 'https://www.youtube.com/@SimplyDeliciousEats', 'thumbnail': 'https://yt3.ggpht.com/S6DVezHSkNeyoO3qI0b6zDflkmZZcGurWgBQp0UA_qoGxNL4mrxFhxGLHjeNuyAMSV88FC0dbGg=s68-c-k-c0x00ffffff-no-rj'}\n",
            "\n",
            "Video 11: MY FAVORITE THINGS - Low Carb Gifts & Gadgets - Keto Kitchen Essentials\n",
            "Channel: {'name': \"Highfalutin' Low Carb\", 'link': 'https://www.youtube.com/@HighfalutinLowCarb', 'verified': True, 'thumbnail': 'https://yt3.ggpht.com/ytc/AIdro_mYvHHuOi2Icl8sm318vK2lQQO2nwtAAPiPtnl6IE__1w=s68-c-k-c0x00ffffff-no-rj'}\n",
            "\n",
            "Video 12: ZERO Carb Keto Milk! 🥛 How to make Keto Whole milk, 2%, & 1% Milk at Home!\n",
            "Channel: {'name': \"Victoria's Keto Kitchen\", 'link': 'https://www.youtube.com/@victoriasketokitchen', 'verified': True, 'thumbnail': 'https://yt3.ggpht.com/LTnFC6gz_SVJJrtbStLD-QZW2PRhGUVPaoTVGKBqOq2CGumyjJ5qFYlUMtkbxJcFq5aGxd54_1M=s68-c-k-c0x00ffffff-no-rj'}\n",
            "\n",
            "Video 13: Protein requirement in low carb way of eating/ Nutrient -dense foods for human body #lcif #lowcarb\n",
            "Channel: {'name': 'Low Carb Kitchen Pharmacist', 'link': 'https://www.youtube.com/@motherslifelowcarbsadvocat7521', 'thumbnail': 'https://yt3.ggpht.com/_ZDkyJsEjlSs7UChAq5A-V2PyEwdObxMzw0npgpcX37X-r-dptsjXA6viG29mz9i2Re_s1YW4t0=s68-c-k-c0x00ffffff-no-rj'}\n",
            "\n",
            "Video 14: Victoria's AMAZING Keto Bread! Gluten Free & Low Carb\n",
            "Channel: {'name': \"Victoria's Keto Kitchen\", 'link': 'https://www.youtube.com/@victoriasketokitchen', 'verified': True, 'thumbnail': 'https://yt3.ggpht.com/LTnFC6gz_SVJJrtbStLD-QZW2PRhGUVPaoTVGKBqOq2CGumyjJ5qFYlUMtkbxJcFq5aGxd54_1M=s68-c-k-c0x00ffffff-no-rj'}\n",
            "\n",
            "Video 15: Low carb sapin sapin #lowcarbsapinsapin #ketosapinsapin #ketokakanin #lowcarbkakanin\n",
            "Channel: {'name': 'Low Carb Kitchen Pharmacist', 'link': 'https://www.youtube.com/@motherslifelowcarbsadvocat7521', 'thumbnail': 'https://yt3.ggpht.com/_ZDkyJsEjlSs7UChAq5A-V2PyEwdObxMzw0npgpcX37X-r-dptsjXA6viG29mz9i2Re_s1YW4t0=s68-c-k-c0x00ffffff-no-rj'}\n",
            "\n",
            "Video 16: Diedre's \"For Real\" Low Carb Bread\n",
            "Channel: {'name': \"Diedre's Kitchen\", 'link': 'https://www.youtube.com/@DiedresKitchen', 'thumbnail': 'https://yt3.ggpht.com/ytc/AIdro_lF7uovvo6TFSncRS78dekCrkVR7SJgZv0jhG9eevt9gD8=s68-c-k-c0x00ffffff-no-rj'}\n",
            "\n",
            "Video 17: Basic Keto Coconut Flour Cookies Made 2 Ways (Gluten Free)\n",
            "Channel: {'name': \"Janet's Delicious Low Carb Kitchen\", 'link': 'https://www.youtube.com/@JanetsDeliciousLowCarbKitchen', 'thumbnail': 'https://yt3.ggpht.com/ytc/AIdro_mXfmWdBfCKdVNnACqWutnvRcRjvey8fTcLxeDHA2PyDg=s68-c-k-c0x00ffffff-no-rj'}\n",
            "\n",
            "Video 18: New Perfected Keto Flour! ONLY 7 Carbs Per Cup!!! Low Carb Keto Flour!\n",
            "Channel: {'name': \"Victoria's Keto Kitchen\", 'link': 'https://www.youtube.com/@victoriasketokitchen', 'verified': True, 'thumbnail': 'https://yt3.ggpht.com/LTnFC6gz_SVJJrtbStLD-QZW2PRhGUVPaoTVGKBqOq2CGumyjJ5qFYlUMtkbxJcFq5aGxd54_1M=s68-c-k-c0x00ffffff-no-rj'}\n",
            "\n",
            "Video 19: Easy Breakfast Egg Muffins | Low Carb Recipe | Em’s Kitchen\n",
            "Channel: {'name': \"Em's Kitchen\", 'link': 'https://www.youtube.com/@EmsKitchen', 'verified': True, 'thumbnail': 'https://yt3.ggpht.com/ytc/AIdro_lfsl6NZ5tbESO0QUeEXeVuxukjS9OM4lWWGXPqc2U7JL8=s68-c-k-c0x00ffffff-no-rj'}\n",
            "\n"
          ]
        }
      ]
    },
    {
      "cell_type": "code",
      "source": [
        "firstchannel =results[1][\"channel\"]\n",
        "c = 0\n",
        "for i in range(len(results)):\n",
        "    if results[i][\"channel\"] == firstchannel:\n",
        "        c += 1\n",
        "print(f\"The channel of the first video appeared {c} times in the results.\")\n"
      ],
      "metadata": {
        "id": "UcGLRZNKSzLj",
        "colab": {
          "base_uri": "https://localhost:8080/"
        },
        "outputId": "3663443d-3c3e-4ea2-8235-a648efc117e7"
      },
      "execution_count": null,
      "outputs": [
        {
          "output_type": "stream",
          "name": "stdout",
          "text": [
            "The channel of the first video appeared 2 times in the results.\n"
          ]
        }
      ]
    },
    {
      "cell_type": "code",
      "source": [
        "secondvideolink =results[1][\"link\"]\n",
        "response = requests.get(secondvideolink)\n",
        "soup = BeautifulSoup(response.content, \"lxml\")"
      ],
      "metadata": {
        "id": "nOlfckbmTYw1"
      },
      "execution_count": null,
      "outputs": []
    },
    {
      "cell_type": "code",
      "source": [
        "metaTags = []\n",
        "\n",
        "for tag in soup.select(\"meta\"):\n",
        "    if \"og:image\" in str(tag):\n",
        "        metaTags.append(str(tag))\n",
        "print(metaTags)\n"
      ],
      "metadata": {
        "id": "dOm3BUBx_Usj",
        "colab": {
          "base_uri": "https://localhost:8080/"
        },
        "outputId": "42c9a927-b737-40f1-ce3e-a562c54903e7"
      },
      "execution_count": null,
      "outputs": [
        {
          "output_type": "stream",
          "name": "stdout",
          "text": [
            "['<meta content=\"https://i.ytimg.com/vi/jjVIrSF4crE/maxresdefault.jpg\" property=\"og:image\"/>', '<meta content=\"1280\" property=\"og:image:width\"/>', '<meta content=\"720\" property=\"og:image:height\"/>']\n"
          ]
        }
      ]
    },
    {
      "cell_type": "code",
      "source": [
        "imageUrl = metaTags[0].split('content=\"')[1].split('\"')[0]\n",
        "response = requests.get(imageUrl)\n",
        "with open(\"image.jpg\", \"wb\") as f:\n",
        "    f.write(response.content)\n",
        "print(imageUrl)"
      ],
      "metadata": {
        "id": "gSF3zmRzTqD0",
        "colab": {
          "base_uri": "https://localhost:8080/"
        },
        "outputId": "5f39eb5e-6f4e-4c4f-832d-869d935aa5e5"
      },
      "execution_count": null,
      "outputs": [
        {
          "output_type": "stream",
          "name": "stdout",
          "text": [
            "https://i.ytimg.com/vi/jjVIrSF4crE/maxresdefault.jpg\n"
          ]
        }
      ]
    }
  ]
}